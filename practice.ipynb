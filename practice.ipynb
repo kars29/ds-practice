{
 "cells": [
  {
   "cell_type": "code",
   "execution_count": 1,
   "id": "3bb23db5-177c-4ae8-8485-01d66e5e1ed3",
   "metadata": {},
   "outputs": [],
   "source": [
    "import pandas as pd"
   ]
  },
  {
   "cell_type": "code",
   "execution_count": 3,
   "id": "61569bfc-9cee-48f3-b6c5-7099d8684391",
   "metadata": {},
   "outputs": [],
   "source": [
    "a = pd.DataFrame({'a': [1,2], 'b': [3, 4]})"
   ]
  },
  {
   "cell_type": "code",
   "execution_count": 7,
   "id": "6664988b-3268-4b36-9112-edd425596613",
   "metadata": {},
   "outputs": [
    {
     "data": {
      "text/plain": [
       "pandas.core.series.Series"
      ]
     },
     "execution_count": 7,
     "metadata": {},
     "output_type": "execute_result"
    }
   ],
   "source": [
    "type(a['a'])"
   ]
  },
  {
   "cell_type": "code",
   "execution_count": 8,
   "id": "8c091972-1a6e-444b-bc70-6392f6d02db8",
   "metadata": {},
   "outputs": [],
   "source": [
    "series = pd.Series([3,4,5], name='random_name')"
   ]
  },
  {
   "cell_type": "code",
   "execution_count": null,
   "id": "d50f0bdd-d0b9-46bb-8ef3-9f3a74d563b9",
   "metadata": {},
   "outputs": [],
   "source": []
  }
 ],
 "metadata": {
  "kernelspec": {
   "display_name": "Python 3 (ipykernel)",
   "language": "python",
   "name": "python3"
  },
  "language_info": {
   "codemirror_mode": {
    "name": "ipython",
    "version": 3
   },
   "file_extension": ".py",
   "mimetype": "text/x-python",
   "name": "python",
   "nbconvert_exporter": "python",
   "pygments_lexer": "ipython3",
   "version": "3.9.7"
  }
 },
 "nbformat": 4,
 "nbformat_minor": 5
}
